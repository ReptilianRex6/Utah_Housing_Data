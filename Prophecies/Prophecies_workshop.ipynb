{
 "cells": [
  {
   "cell_type": "code",
   "execution_count": null,
   "metadata": {},
   "outputs": [],
   "source": [
    "#Working on applying Prophet to our datasets\n",
    "\n",
    "#Importing the necessary libraries\n",
    "import pandas as pd \n",
    "import numpy as np\n",
    "import matplotlib.pyplot as plt\n",
    "import datetime as dt\n",
    "from prophet import Prophet\n",
    "\n",
    "#Read in the data\n",
    "df_census = pd.read_csv('utah population 2000-2022 neilsberg.csv')\n",
    "df_census.head()\n",
    "\n",
    "#Analyze the data\n",
    "\n",
    "\n",
    "#Plot general trends\n",
    "\n",
    "\n",
    "#Transform/clean the data, if necessary\n",
    "\n",
    "\n",
    "\n",
    "#Prepare the data for Prophet\n",
    "\n",
    "\n",
    "#Train the model\n",
    "\n",
    "\n",
    "#Make predictions\n",
    "\n",
    "\n",
    "#Plot the predictions\n",
    "\n",
    "\n",
    "\n",
    "\n",
    "#Evaluate the model\n"
   ]
  }
 ],
 "metadata": {
  "language_info": {
   "name": "python"
  }
 },
 "nbformat": 4,
 "nbformat_minor": 2
}
