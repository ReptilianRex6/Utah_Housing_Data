{
 "cells": [
  {
   "cell_type": "code",
   "execution_count": null,
   "metadata": {},
   "outputs": [],
   "source": [
    "#Working on applying Prophet to our datasets\n",
    "\n",
    "#Importing the necessary libraries\n",
    "import pandas as pd \n",
    "import numpy as np\n",
    "import matplotlib.pyplot as plt\n",
    "import datetime as dt\n",
    "from prophet import Prophet\n",
    "import pickle"
   ]
  },
  {
   "cell_type": "code",
   "execution_count": null,
   "metadata": {},
   "outputs": [],
   "source": [
    "#Read in data\n",
    "\n",
    "df_utahpop = pd.read_csv('../Resources/utah population 2000-2022 neilsberg.csv')\n",
    "df_rmhi = pd.read_csv('../Resources/Real Median Household Income.csv')\n",
    "df_ushpi = pd.read_csv('../Resources/Utah State House Price Index.csv')\n",
    "with open('../Pop vs Build Permits/Resources/permits_df.pkl', 'rb') as f:\n",
    "    permits_df = pickle.load(f)\n",
    "\n",
    "    "
   ]
  }
 ],
 "metadata": {
  "language_info": {
   "name": "python"
  }
 },
 "nbformat": 4,
 "nbformat_minor": 2
}
