{
 "cells": [
  {
   "cell_type": "code",
   "execution_count": null,
   "metadata": {},
   "outputs": [],
   "source": [
    "# Importing the necessary libraries\n",
    "import pandas as pd\n",
    "import numpy as np\n",
    "import matplotlib.pyplot as plt"
   ]
  },
  {
   "cell_type": "code",
   "execution_count": null,
   "metadata": {},
   "outputs": [],
   "source": [
    "# Reading in the data from FRED and storing it in a dataframe\n",
    "Household_Income_Path = \"Resources/Real Median Household Income.csv\"\n",
    "Real_Median_Household_Income = pd.DataFrame(pd.read_csv(Household_Income_Path))\n",
    "Price_of_a_Home_Path = \"Resources/Utah State House Price Index.csv\"\n",
    "Average_Price_of_a_Home = pd.DataFrame(pd.read_csv(Price_of_a_Home_Path))\n",
    "Population_Path = \"Resources/Resident Population in Utah.csv\"\n",
    "Population = pd.DataFrame(pd.read_csv(Population_Path))"
   ]
  },
  {
   "cell_type": "code",
   "execution_count": null,
   "metadata": {},
   "outputs": [],
   "source": [
    "# Visualizing the Data:\n",
    "\n",
    "# Fig. 1 - Average Price of a Home in Utah Over Time\n",
    "\n",
    "Fig1 = Average_Price_of_a_Home[\"DATE\", \"MEHOINUSUTA672N\"].plot(x=\"DATE\", y=\"MEHOINUSUTA672N\", title=\"Real Median Household Income in Utah Over Time\", xlabel=\"Year\", ylabel=\"Real Median Household Income in Utah\")\n",
    "print(Fig1)\n",
    "# Fig. 2 - Average Income in Utah Over Time\n",
    "\n",
    "Fig2 = Real_Median_Household_Income[\"DATE\", \"UTSTHPI\"].plot(x=\"DATE\", y=\"UTSTHPI\", title=\"Average Income in Utah Over Time\", xlabel=\"Year\", ylabel=\"Average Income in Utah\")\n",
    "print(Fig2)\n",
    "# Fig. 3 - Population of Utah Over Time\n",
    "\n",
    "Fig3 = Population[\"DATE\", \"UTPOP\"].plot(x=\"DATE\", y=\"UTPOP\", title=\"Population in Utah Over Time\", xlabel=\"Year\", ylabel=\"Population\")\n",
    "print(Fig3)\n",
    "# Fig. 4 - Relationship Between the Average Price of a Home, Average Income, and Population \n",
    "\n",
    "Fig4 = Real_Median_Household_Income[\"DATE\", \"MEHOINUSUTA672N\"].plot(x=\"DATE\", y=\"MEHOINUSUTA672N\", title=\"Real Median Household Income in Utah Over Time\", xlabel=\"Year\", ylabel=\"Real Median Household Income in Utah\")\n",
    "print(Fig4)"
   ]
  }
 ],
 "metadata": {
  "kernelspec": {
   "display_name": "dev",
   "language": "python",
   "name": "python3"
  },
  "language_info": {
   "codemirror_mode": {
    "name": "ipython",
    "version": 3
   },
   "file_extension": ".py",
   "mimetype": "text/x-python",
   "name": "python",
   "nbconvert_exporter": "python",
   "pygments_lexer": "ipython3",
   "version": "3.11.5"
  }
 },
 "nbformat": 4,
 "nbformat_minor": 2
}
