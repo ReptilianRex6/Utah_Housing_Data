{
 "cells": [
  {
   "cell_type": "code",
   "execution_count": 1,
   "metadata": {},
   "outputs": [],
   "source": [
    "# Importing the necessary libraries\n",
    "import pandas as pd\n",
    "import numpy as np\n",
    "import matplotlib.pyplot as plt"
   ]
  },
  {
   "cell_type": "code",
   "execution_count": 2,
   "metadata": {},
   "outputs": [
    {
     "ename": "SyntaxError",
     "evalue": "(unicode error) 'unicodeescape' codec can't decode bytes in position 27-28: truncated \\UXXXXXXXX escape (2697697859.py, line 4)",
     "output_type": "error",
     "traceback": [
      "\u001b[1;36m  Cell \u001b[1;32mIn[2], line 4\u001b[1;36m\u001b[0m\n\u001b[1;33m    Average_Price_of_a_Home = pd.read_csv('Utah_Housing_Data\\Resources\\Utah State House Price Index')\u001b[0m\n\u001b[1;37m                                                                                                    ^\u001b[0m\n\u001b[1;31mSyntaxError\u001b[0m\u001b[1;31m:\u001b[0m (unicode error) 'unicodeescape' codec can't decode bytes in position 27-28: truncated \\UXXXXXXXX escape\n"
     ]
    }
   ],
   "source": [
    "# Reading in the data from FRED and storing it in a dataframe\n",
    "Real_Median_Household_Income = pd.DataFrame(pd.read_csv(\"Utah_Housing_Data\\Resources\\Real Median Household Income.csv\"))\n",
    "pd.read_csv(\"Utah_Housing_Data\\Resources\\Real Median Household Income.csv\")\n",
    "Average_Price_of_a_Home = pd.read_csv('Utah_Housing_Data\\Resources\\Utah State House Price Index')\n",
    "Population = pd.read_csv('Utah_Housing_Data\\Resources\\Resident Population In Utah')"
   ]
  },
  {
   "cell_type": "code",
   "execution_count": null,
   "metadata": {},
   "outputs": [],
   "source": [
    "# Visualizing the Data:\n",
    "\n",
    "# Fig. 1 - Average Price of a Home in Utah Over Time\n",
    "\n",
    "Fig1 = Average_Price_of_a_Home[\"DATE\", \"MEHOINUSUTA672N\"].plot(x=\"DATE\", y=\"MEHOINUSUTA672N\", title=\"Real Median Household Income in Utah Over Time\", xlabel=\"Year\", ylabel=\"Real Median Household Income in Utah\")\n",
    "print(Fig1)\n",
    "# Fig. 2 - Average Income in Utah Over Time\n",
    "\n",
    "Fig2 = Real_Median_Household_Income[\"DATE\", \"UTSTHPI\"].plot(x=\"DATE\", y=\"UTSTHPI\", title=\"Average Income in Utah Over Time\", xlabel=\"Year\", ylabel=\"Average Income in Utah\")\n",
    "print(Fig2)\n",
    "# Fig. 3 - Population of Utah Over Time\n",
    "\n",
    "Fig3 = Population[\"DATE\", \"UTPOP\"].plot(x=\"DATE\", y=\"UTPOP\", title=\"Population in Utah Over Time\", xlabel=\"Year\", ylabel=\"Population\")\n",
    "print(Fig3)\n",
    "# Fig. 4 - Relationship Between the Average Price of a Home, Average Income, and Population \n",
    "\n",
    "Fig4 = Real_Median_Household_Income[\"DATE\", \"MEHOINUSUTA672N\"].plot(x=\"DATE\", y=\"MEHOINUSUTA672N\", title=\"Real Median Household Income in Utah Over Time\", xlabel=\"Year\", ylabel=\"Real Median Household Income in Utah\")\n",
    "print(Fig4)"
   ]
  }
 ],
 "metadata": {
  "kernelspec": {
   "display_name": "dev",
   "language": "python",
   "name": "python3"
  },
  "language_info": {
   "codemirror_mode": {
    "name": "ipython",
    "version": 3
   },
   "file_extension": ".py",
   "mimetype": "text/x-python",
   "name": "python",
   "nbconvert_exporter": "python",
   "pygments_lexer": "ipython3",
   "version": "3.10.13"
  }
 },
 "nbformat": 4,
 "nbformat_minor": 2
}
